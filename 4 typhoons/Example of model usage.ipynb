{
 "cells": [
  {
   "cell_type": "code",
   "execution_count": 11,
   "metadata": {
    "collapsed": false
   },
   "outputs": [
    {
     "name": "stdout",
     "output_type": "stream",
     "text": [
      "\n"
     ]
    }
   ],
   "source": [
    "import cPickle\n",
    "from sklearn import metrics\n",
    "from sklearn.ensemble import  RandomForestRegressor, AdaBoostRegressor, GradientBoostingRegressor\n",
    "from sklearn.metrics import mean_absolute_error, mean_squared_error, r2_score, median_absolute_error\n",
    "\n",
    "\n",
    "import pandas as pd\n"
   ]
  },
  {
   "cell_type": "code",
   "execution_count": null,
   "metadata": {
    "collapsed": true
   },
   "outputs": [],
   "source": [
    "### Load data\n",
    "### fill empty Poverty data with mean value\n",
    "### calculate number of poor people per each municipality"
   ]
  },
  {
   "cell_type": "code",
   "execution_count": 13,
   "metadata": {
    "collapsed": true
   },
   "outputs": [],
   "source": [
    "T = pd.read_csv(\"../4 typhoons/matrix_4typhoons.csv\")\n",
    "T.index = T['M_Code']\n",
    "T[['Poverty (%)']] = T[['Poverty (%)']].fillna(T[['Poverty (%)']].mean())\n",
    "T['Poor'] = T['Poverty (%)'] * T['Population 2015 census']"
   ]
  },
  {
   "cell_type": "code",
   "execution_count": 17,
   "metadata": {
    "collapsed": false
   },
   "outputs": [],
   "source": [
    "X = T.loc[T['typhoon_name'].isin(['Typhoon2016'])][[u'Area (km2)', u'Population 2015 census',\n",
    "       u'Pop. Density 2015 per km2', u'Poverty (%)', u'Rainfallme',  u'average_speed_mph', u'distance_typhoon_km', 'Poor']]\n",
    "\n"
   ]
  },
  {
   "cell_type": "code",
   "execution_count": null,
   "metadata": {
    "collapsed": true
   },
   "outputs": [],
   "source": [
    "### Load model"
   ]
  },
  {
   "cell_type": "code",
   "execution_count": 18,
   "metadata": {
    "collapsed": false
   },
   "outputs": [],
   "source": [
    "with open('modelHayianMelor', 'rb') as f:\n",
    "    rf = cPickle.load(f)\n",
    "    \n",
    "    ### Use model for prediction\n",
    "    predicted = rf.predict(X5_train)\n",
    "\n",
    "\n"
   ]
  },
  {
   "cell_type": "code",
   "execution_count": null,
   "metadata": {
    "collapsed": true
   },
   "outputs": [],
   "source": []
  }
 ],
 "metadata": {
  "kernelspec": {
   "display_name": "Python 2",
   "language": "python",
   "name": "python2"
  },
  "language_info": {
   "codemirror_mode": {
    "name": "ipython",
    "version": 2
   },
   "file_extension": ".py",
   "mimetype": "text/x-python",
   "name": "python",
   "nbconvert_exporter": "python",
   "pygments_lexer": "ipython2",
   "version": "2.7.8"
  },
  "widgets": {
   "state": {},
   "version": "1.1.2"
  }
 },
 "nbformat": 4,
 "nbformat_minor": 0
}
